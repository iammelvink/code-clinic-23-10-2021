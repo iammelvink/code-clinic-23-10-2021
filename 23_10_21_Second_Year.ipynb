{
 "cells": [
  {
   "cell_type": "markdown",
   "id": "ca4d14d7",
   "metadata": {},
   "source": [
    "## Reference \n",
    "\n",
    "https://www.w3schools.com/python "
   ]
  },
  {
   "cell_type": "markdown",
   "id": "e2bb84b3",
   "metadata": {},
   "source": [
    "# DISCLAMER:\n",
    "\n",
    "# ALL ERRORS INDICATE THAT IT IS THE INCORRECT WAY TO WRITE THAT CERTAIN LINE OF CODE. AND BELOW THE CORRECT WAY IS PRODUCED."
   ]
  },
  {
   "cell_type": "markdown",
   "id": "06203915",
   "metadata": {},
   "source": [
    "# Creating or Declaring Variables"
   ]
  },
  {
   "cell_type": "markdown",
   "id": "a59b1cbf",
   "metadata": {},
   "source": [
    "# Variables\n",
    "Variables just from any programming language, are used for storing data values."
   ]
  },
  {
   "cell_type": "markdown",
   "id": "1fbbc9c6",
   "metadata": {},
   "source": [
    "### Creating Variables\n",
    "You can create a variable in python without decalring it."
   ]
  },
  {
   "cell_type": "code",
   "execution_count": 1,
   "id": "47ead687",
   "metadata": {},
   "outputs": [
    {
     "name": "stdout",
     "output_type": "stream",
     "text": [
      "20\n",
      "Samuel\n"
     ]
    }
   ],
   "source": [
    "a = 20 # a is of type int or integer\n",
    "b = 'Samuel' # b is of type str or string \n",
    "print(a)\n",
    "print(b)"
   ]
  },
  {
   "cell_type": "markdown",
   "id": "4d0c7d7c",
   "metadata": {},
   "source": [
    "### Casting \n",
    "\n",
    "It is a way of specifying the data type of a variable."
   ]
  },
  {
   "cell_type": "code",
   "execution_count": 2,
   "id": "162dc859",
   "metadata": {},
   "outputs": [],
   "source": [
    "c = str(35)   \n",
    "# c will be '35'\n",
    "d = int(311)    \n",
    "# d will be 311\n",
    "e = float(10)  \n",
    "# e will be 10.0"
   ]
  },
  {
   "cell_type": "markdown",
   "id": "234ef6db",
   "metadata": {},
   "source": [
    "### Get the Type\n",
    "\n",
    "You can retrieve the data type of a variable with the type() function."
   ]
  },
  {
   "cell_type": "code",
   "execution_count": 3,
   "id": "da410739",
   "metadata": {},
   "outputs": [
    {
     "name": "stdout",
     "output_type": "stream",
     "text": [
      "<class 'str'>\n",
      "<class 'int'>\n",
      "<class 'float'>\n"
     ]
    }
   ],
   "source": [
    "print(type(c))\n",
    "print(type(d))\n",
    "print(type(e))"
   ]
  },
  {
   "cell_type": "markdown",
   "id": "e3f566fb",
   "metadata": {},
   "source": [
    "### Single or Double Quotes?\n",
    "String variables can be declared either by using single or double quotes:"
   ]
  },
  {
   "cell_type": "code",
   "execution_count": 4,
   "id": "8b7a72fa",
   "metadata": {},
   "outputs": [],
   "source": [
    "ab = \"Sam\"\n",
    "# is the same as\n",
    "ab = 'Sam'"
   ]
  },
  {
   "cell_type": "markdown",
   "id": "8c3bc61f",
   "metadata": {},
   "source": [
    "### Case-Sensitive\n",
    "Variable names are case-sensitive."
   ]
  },
  {
   "cell_type": "code",
   "execution_count": 5,
   "id": "f0923c00",
   "metadata": {},
   "outputs": [],
   "source": [
    "a = 40\n",
    "A = \"Samsom\"\n",
    "# A will not overwrite a"
   ]
  },
  {
   "cell_type": "markdown",
   "id": "9da62f58",
   "metadata": {},
   "source": [
    "### Python - Variable Names"
   ]
  },
  {
   "cell_type": "markdown",
   "id": "5b9239c0",
   "metadata": {},
   "source": [
    "### Variable Names\n",
    "\n",
    "A variable can have a short name (like x and y) or a more descriptive name (age, carname, total_volume). Rules for Python variables:\n",
    "* A variable name must start with a letter or the underscore character\n",
    "* A variable name cannot start with a number\n",
    "* A variable name can only contain alpha-numeric characters and underscores (A-z, 0-9, and _ )\n",
    "* Variable names are case-sensitive (age, Age and AGE are three different variables)"
   ]
  },
  {
   "cell_type": "markdown",
   "id": "777eb0ea",
   "metadata": {},
   "source": [
    "#### Legal variable names "
   ]
  },
  {
   "cell_type": "code",
   "execution_count": 6,
   "id": "0ba0fab2",
   "metadata": {},
   "outputs": [],
   "source": [
    "var1 = \"Thato\"\n",
    "var_1 = \"Johnny\"\n",
    "_var_1 = \"Kenneth\"\n",
    "Var1 = \"Jody\"\n",
    "VAR1 = \"Abigail\"\n",
    "var12 = \"Samkelo\""
   ]
  },
  {
   "cell_type": "markdown",
   "id": "14382b07",
   "metadata": {},
   "source": [
    "#### Illegal variable names \n",
    "\n",
    "Because they are illegal, they should produce an error."
   ]
  },
  {
   "cell_type": "code",
   "execution_count": 7,
   "id": "0726b92f",
   "metadata": {},
   "outputs": [
    {
     "ename": "SyntaxError",
     "evalue": "invalid syntax (<ipython-input-7-86e5c19a8edd>, line 1)",
     "output_type": "error",
     "traceback": [
      "\u001b[1;36m  File \u001b[1;32m\"<ipython-input-7-86e5c19a8edd>\"\u001b[1;36m, line \u001b[1;32m1\u001b[0m\n\u001b[1;33m    2myvar = \"Samkelo\"\u001b[0m\n\u001b[1;37m     ^\u001b[0m\n\u001b[1;31mSyntaxError\u001b[0m\u001b[1;31m:\u001b[0m invalid syntax\n"
     ]
    }
   ],
   "source": [
    "2myvar = \"Samkelo\"\n",
    "my-var = \"John\"\n",
    "my var = \"James\""
   ]
  },
  {
   "cell_type": "markdown",
   "id": "12e228e0",
   "metadata": {},
   "source": [
    "### Remember that variable names are case-sensitive"
   ]
  },
  {
   "cell_type": "markdown",
   "id": "7c487afc",
   "metadata": {},
   "source": [
    "###  Multi Words Variable Names\n",
    "Variable names with more than one word can be difficult to read.\n",
    "\n",
    "There are several techniques you can use to make them more readable:\n",
    "\n",
    "### Camel Case\n",
    "Each word, except the first, starts with a capital letter:"
   ]
  },
  {
   "cell_type": "code",
   "execution_count": 8,
   "id": "7e57cc4e",
   "metadata": {},
   "outputs": [],
   "source": [
    "myVariableName = 'Hanna'"
   ]
  },
  {
   "cell_type": "markdown",
   "id": "439e930b",
   "metadata": {},
   "source": [
    "### Pascal Case\n",
    "Each word starts with a capital letter:"
   ]
  },
  {
   "cell_type": "code",
   "execution_count": 9,
   "id": "e0fc16fa",
   "metadata": {},
   "outputs": [],
   "source": [
    "MyVariableName = \"Kabelo\""
   ]
  },
  {
   "cell_type": "markdown",
   "id": "9e23c37b",
   "metadata": {},
   "source": [
    "### Snake Case\n",
    "Each word is separated by an underscore character:"
   ]
  },
  {
   "cell_type": "code",
   "execution_count": 10,
   "id": "b7d31418",
   "metadata": {},
   "outputs": [],
   "source": [
    "my_variable_name = \"Jake\""
   ]
  },
  {
   "cell_type": "markdown",
   "id": "43a6d253",
   "metadata": {},
   "source": [
    "### Python Variables - Assign Multiple Values"
   ]
  },
  {
   "cell_type": "markdown",
   "id": "0ecda526",
   "metadata": {},
   "source": [
    "### Many Values to Multiple Variables\n",
    "Python allows you to assign values to multiple variables in one line:"
   ]
  },
  {
   "cell_type": "code",
   "execution_count": 11,
   "id": "d37ed3fb",
   "metadata": {},
   "outputs": [
    {
     "name": "stdout",
     "output_type": "stream",
     "text": [
      "Pink\n",
      "Purple\n",
      "Red\n"
     ]
    }
   ],
   "source": [
    "v, x, p = \"Pink\", \"Purple\", \"Red\"\n",
    "print(v)\n",
    "print(x)\n",
    "print(p)\n"
   ]
  },
  {
   "cell_type": "markdown",
   "id": "73474d18",
   "metadata": {},
   "source": [
    "### Note: \n",
    "Make sure the number of variables matches the number of values, or else you will get an error."
   ]
  },
  {
   "cell_type": "markdown",
   "id": "7867a563",
   "metadata": {},
   "source": [
    "### One Value to Multiple Variables\n",
    "And you can assign the same value to multiple variables in one line:"
   ]
  },
  {
   "cell_type": "code",
   "execution_count": 12,
   "id": "32d5309b",
   "metadata": {},
   "outputs": [
    {
     "name": "stdout",
     "output_type": "stream",
     "text": [
      "Orange\n",
      "Orange\n",
      "Orange\n"
     ]
    }
   ],
   "source": [
    "x = y = z = \"Orange\"\n",
    "print(x)\n",
    "print(y)\n",
    "print(z)"
   ]
  },
  {
   "cell_type": "markdown",
   "id": "51a15026",
   "metadata": {},
   "source": [
    "### Unpack a Collection\n",
    "If you have a collection of values in a list, tuple etc. Python allows you extract the values into variables. This is called unpacking."
   ]
  },
  {
   "cell_type": "code",
   "execution_count": 13,
   "id": "b8bb5a22",
   "metadata": {},
   "outputs": [
    {
     "name": "stdout",
     "output_type": "stream",
     "text": [
      "guava\n",
      "dragon fruit\n",
      "kiwi\n"
     ]
    }
   ],
   "source": [
    "fruits = [\"guava\", \"dragon fruit\", \"kiwi\"]\n",
    "x, y, z = fruits\n",
    "print(x)\n",
    "print(y)\n",
    "print(z)"
   ]
  },
  {
   "cell_type": "markdown",
   "id": "b597d9b4",
   "metadata": {},
   "source": [
    "### Unpacking a tuple\n",
    "\n",
    "When we create a tuple, we normally assign values to it. This is called \"packing\" a tuple:"
   ]
  },
  {
   "cell_type": "code",
   "execution_count": 14,
   "id": "ee57871e",
   "metadata": {},
   "outputs": [],
   "source": [
    "fruits = (\"peach\", \"grapes\", \"watermelon\")"
   ]
  },
  {
   "cell_type": "markdown",
   "id": "909cb48f",
   "metadata": {},
   "source": [
    "But, in Python, we are also allowed to extract the values back into variables. This is called \"unpacking\":"
   ]
  },
  {
   "cell_type": "code",
   "execution_count": 16,
   "id": "ce2d5403",
   "metadata": {},
   "outputs": [
    {
     "name": "stdout",
     "output_type": "stream",
     "text": [
      "peach\n",
      "grapes\n",
      "watermelon\n"
     ]
    }
   ],
   "source": [
    "(Jake, James, Jody) =fruits\n",
    "\n",
    "print(Jake)\n",
    "print(James)\n",
    "print(Jody)"
   ]
  },
  {
   "cell_type": "markdown",
   "id": "c69bc445",
   "metadata": {},
   "source": [
    "### Using Asterisk*\n",
    "If the number of variables is less than the number of values, you can add an * to the variable name and the values will be assigned to the variable as a list:"
   ]
  },
  {
   "cell_type": "code",
   "execution_count": 19,
   "id": "e13b260e",
   "metadata": {},
   "outputs": [
    {
     "name": "stdout",
     "output_type": "stream",
     "text": [
      "peach\n",
      "grapes\n",
      "['watermelon']\n"
     ]
    }
   ],
   "source": [
    "(Jake, James, Jody) = fruits\n",
    "\n",
    "(green, yellow, *red) = fruits\n",
    "\n",
    "print(green)\n",
    "print(yellow)\n",
    "print(red)"
   ]
  },
  {
   "cell_type": "markdown",
   "id": "513ce26c",
   "metadata": {},
   "source": [
    "If the asterisk is added to another variable name than the last, Python will assign values to the variable until the number of values left matches the number of variables left."
   ]
  },
  {
   "cell_type": "code",
   "execution_count": 20,
   "id": "08f34932",
   "metadata": {},
   "outputs": [
    {
     "name": "stdout",
     "output_type": "stream",
     "text": [
      "apple\n",
      "['mango', 'papaya', 'pineapple']\n",
      "cherry\n"
     ]
    }
   ],
   "source": [
    "fruits = (\"apple\", \"mango\", \"papaya\", \"pineapple\", \"cherry\")\n",
    "\n",
    "(green, *tropic, red) = fruits\n",
    "\n",
    "print(green)\n",
    "print(tropic)\n",
    "print(red)"
   ]
  },
  {
   "cell_type": "markdown",
   "id": "1f98beb1",
   "metadata": {},
   "source": [
    "### Output Variables"
   ]
  },
  {
   "cell_type": "markdown",
   "id": "556d07c2",
   "metadata": {},
   "source": [
    "The Python print statement is often used to output variables.\n",
    "\n",
    "To combine both text and a variable, Python uses the + character:"
   ]
  },
  {
   "cell_type": "code",
   "execution_count": 21,
   "id": "6ec3bd3e",
   "metadata": {},
   "outputs": [
    {
     "name": "stdout",
     "output_type": "stream",
     "text": [
      "Not all Pythons are snakes\n"
     ]
    }
   ],
   "source": [
    "p = \"snakes\"\n",
    "print(\"Not all Pythons are \" + p)"
   ]
  },
  {
   "cell_type": "markdown",
   "id": "205a0e11",
   "metadata": {},
   "source": [
    "For numbers, the + character works as a mathematical operator:"
   ]
  },
  {
   "cell_type": "code",
   "execution_count": 22,
   "id": "2ebb9f57",
   "metadata": {},
   "outputs": [
    {
     "name": "stdout",
     "output_type": "stream",
     "text": [
      "15\n"
     ]
    }
   ],
   "source": [
    "x = 5\n",
    "y = 10\n",
    "print(x + y)"
   ]
  },
  {
   "cell_type": "markdown",
   "id": "8740693e",
   "metadata": {},
   "source": [
    "#### If you try to combine a string and a number, Python will give you an error:"
   ]
  },
  {
   "cell_type": "code",
   "execution_count": 23,
   "id": "c30204b4",
   "metadata": {},
   "outputs": [
    {
     "ename": "TypeError",
     "evalue": "unsupported operand type(s) for +: 'int' and 'str'",
     "output_type": "error",
     "traceback": [
      "\u001b[1;31m---------------------------------------------------------------------------\u001b[0m",
      "\u001b[1;31mTypeError\u001b[0m                                 Traceback (most recent call last)",
      "\u001b[1;32m<ipython-input-23-00c66e4310ff>\u001b[0m in \u001b[0;36m<module>\u001b[1;34m\u001b[0m\n\u001b[0;32m      1\u001b[0m \u001b[0mx\u001b[0m \u001b[1;33m=\u001b[0m \u001b[1;36m5\u001b[0m\u001b[1;33m\u001b[0m\u001b[1;33m\u001b[0m\u001b[0m\n\u001b[0;32m      2\u001b[0m \u001b[0my\u001b[0m \u001b[1;33m=\u001b[0m \u001b[1;34m\"John\"\u001b[0m\u001b[1;33m\u001b[0m\u001b[1;33m\u001b[0m\u001b[0m\n\u001b[1;32m----> 3\u001b[1;33m \u001b[0mprint\u001b[0m\u001b[1;33m(\u001b[0m\u001b[0mx\u001b[0m \u001b[1;33m+\u001b[0m \u001b[0my\u001b[0m\u001b[1;33m)\u001b[0m\u001b[1;33m\u001b[0m\u001b[1;33m\u001b[0m\u001b[0m\n\u001b[0m",
      "\u001b[1;31mTypeError\u001b[0m: unsupported operand type(s) for +: 'int' and 'str'"
     ]
    }
   ],
   "source": [
    "x = 5\n",
    "y = \"John\"\n",
    "print(x + y)"
   ]
  },
  {
   "cell_type": "markdown",
   "id": "8f3be0f2",
   "metadata": {},
   "source": [
    "### Content on global variables is removed, as we have not covered functions in this notebook."
   ]
  },
  {
   "cell_type": "markdown",
   "id": "806dee9f",
   "metadata": {},
   "source": [
    "# Python Data Types"
   ]
  },
  {
   "cell_type": "markdown",
   "id": "5091f626",
   "metadata": {},
   "source": [
    "### Built-in Data Types\n",
    "In programming, data type is an important concept.\n",
    "\n",
    "Variables can store data of different types, and different types can do different things.\n",
    "\n",
    "Python has the following data types built-in by default, in these categories:\n",
    "\n",
    "* Text Type:\tstr\n",
    "* Numeric Types:\tint, float, complex\n",
    "* Sequence Types:\tlist, tuple, range\n",
    "* Mapping Type:\tdict\n",
    "* Set Types:\tset, frozenset\n",
    "* Boolean Type:\tbool\n",
    "* Binary Types:\tbytes, bytearray, memoryview"
   ]
  },
  {
   "cell_type": "markdown",
   "id": "3a2e55e9",
   "metadata": {},
   "source": [
    "## Getting the Data Type\n",
    "You can get the data type of any object by using the type() function:"
   ]
  },
  {
   "cell_type": "code",
   "execution_count": 28,
   "id": "dce53d93",
   "metadata": {},
   "outputs": [
    {
     "name": "stdout",
     "output_type": "stream",
     "text": [
      "<class 'int'>\n"
     ]
    }
   ],
   "source": [
    "# Print the data type of the variable x:\n",
    "x = 50\n",
    "print(type(x))"
   ]
  },
  {
   "cell_type": "markdown",
   "id": "faebdefc",
   "metadata": {},
   "source": [
    "# Python Numbers\n",
    "There are three numeric types in Python:\n",
    "\n",
    "* int\n",
    "* float\n",
    "* complex\n",
    "\n",
    "Variables of numeric types are created when you assign a value to them:"
   ]
  },
  {
   "cell_type": "code",
   "execution_count": 29,
   "id": "c6e8d8ec",
   "metadata": {},
   "outputs": [],
   "source": [
    "x = 15    # int\n",
    "y = 2.80  # float"
   ]
  },
  {
   "cell_type": "markdown",
   "id": "af95e82c",
   "metadata": {},
   "source": [
    "To verify the type of any object in Python, use the type() function:"
   ]
  },
  {
   "cell_type": "code",
   "execution_count": 30,
   "id": "2d4084e6",
   "metadata": {},
   "outputs": [
    {
     "name": "stdout",
     "output_type": "stream",
     "text": [
      "<class 'int'>\n",
      "<class 'float'>\n"
     ]
    }
   ],
   "source": [
    "print(type(x))\n",
    "print(type(y))"
   ]
  },
  {
   "cell_type": "markdown",
   "id": "ad167c49",
   "metadata": {},
   "source": [
    "### Int\n",
    "Int, or integer, is a whole number, positive or negative, without decimals, of unlimited length."
   ]
  },
  {
   "cell_type": "code",
   "execution_count": 31,
   "id": "f8bba703",
   "metadata": {},
   "outputs": [
    {
     "name": "stdout",
     "output_type": "stream",
     "text": [
      "<class 'int'>\n",
      "<class 'int'>\n",
      "<class 'int'>\n"
     ]
    }
   ],
   "source": [
    "x = 1\n",
    "y = 35656222554887711\n",
    "z = -3255522\n",
    "\n",
    "print(type(x))\n",
    "print(type(y))\n",
    "print(type(z))"
   ]
  },
  {
   "cell_type": "markdown",
   "id": "5d66475e",
   "metadata": {},
   "source": [
    "### Float\n",
    "Float, or \"floating point number\" is a number, positive or negative, containing one or more decimals."
   ]
  },
  {
   "cell_type": "code",
   "execution_count": 32,
   "id": "7eeaf446",
   "metadata": {},
   "outputs": [
    {
     "name": "stdout",
     "output_type": "stream",
     "text": [
      "<class 'float'>\n",
      "<class 'float'>\n",
      "<class 'float'>\n"
     ]
    }
   ],
   "source": [
    "x = 1.10\n",
    "y = 1.0\n",
    "z = -35.59\n",
    "\n",
    "print(type(x))\n",
    "print(type(y))\n",
    "print(type(z))"
   ]
  },
  {
   "cell_type": "markdown",
   "id": "e6d3453d",
   "metadata": {},
   "source": [
    "Float can also be scientific numbers with an \"e\" to indicate the power of 10."
   ]
  },
  {
   "cell_type": "code",
   "execution_count": 33,
   "id": "8c6edbee",
   "metadata": {},
   "outputs": [
    {
     "name": "stdout",
     "output_type": "stream",
     "text": [
      "<class 'float'>\n",
      "<class 'float'>\n",
      "<class 'float'>\n"
     ]
    }
   ],
   "source": [
    "x = 35e3\n",
    "y = 12E4\n",
    "z = -87.7e100\n",
    "\n",
    "print(type(x))\n",
    "print(type(y))\n",
    "print(type(z))"
   ]
  },
  {
   "cell_type": "markdown",
   "id": "ee776b8d",
   "metadata": {},
   "source": [
    "### Complex\n",
    "Complex numbers are written with a \"j\" as the imaginary part:"
   ]
  },
  {
   "cell_type": "code",
   "execution_count": 34,
   "id": "3b4021b9",
   "metadata": {},
   "outputs": [
    {
     "name": "stdout",
     "output_type": "stream",
     "text": [
      "<class 'complex'>\n",
      "<class 'complex'>\n",
      "<class 'complex'>\n"
     ]
    }
   ],
   "source": [
    "x = 3+5j\n",
    "y = 5j\n",
    "z = -5j\n",
    "\n",
    "print(type(x))\n",
    "print(type(y))\n",
    "print(type(z))"
   ]
  },
  {
   "cell_type": "code",
   "execution_count": 35,
   "id": "8b5e8794",
   "metadata": {},
   "outputs": [
    {
     "name": "stdout",
     "output_type": "stream",
     "text": [
      "1.0\n",
      "2\n",
      "(1+0j)\n",
      "<class 'float'>\n",
      "<class 'int'>\n",
      "<class 'complex'>\n"
     ]
    }
   ],
   "source": [
    "# Convert from one type to another:\n",
    "\n",
    "x = 1    # int\n",
    "y = 2.8  # float\n",
    "z = 1j   # complex\n",
    "\n",
    "#convert from int to float:\n",
    "a = float(x)\n",
    "\n",
    "#convert from float to int:\n",
    "b = int(y)\n",
    "\n",
    "#convert from int to complex:\n",
    "c = complex(x)\n",
    "\n",
    "print(a)\n",
    "print(b)\n",
    "print(c)\n",
    "\n",
    "print(type(a))\n",
    "print(type(b))\n",
    "print(type(c))"
   ]
  },
  {
   "cell_type": "markdown",
   "id": "08665061",
   "metadata": {},
   "source": [
    "# Python Casting"
   ]
  },
  {
   "cell_type": "markdown",
   "id": "1cc1dc0e",
   "metadata": {},
   "source": [
    "### Specify a Variable Type\n",
    "There may be times when you want to specify a type on to a variable. This can be done with casting. Python is an object-orientated language, and as such it uses classes to define data types, including its primitive types.\n",
    "\n",
    "Casting in python is therefore done using constructor functions:\n",
    "\n",
    "* int() - constructs an integer number from an integer literal, a float literal (by removing all decimals), or a string literal (providing the string represents a whole number)\n",
    "* float() - constructs a float number from an integer literal, a float literal or a string literal (providing the string represents a float or an integer)\n",
    "* str() - constructs a string from a wide variety of data types, including strings, integer literals and float literals\n"
   ]
  },
  {
   "cell_type": "code",
   "execution_count": 36,
   "id": "091bdc8e",
   "metadata": {},
   "outputs": [],
   "source": [
    "# Integers:\n",
    "\n",
    "x = int(1)   # x will be 1\n",
    "y = int(2.8) # y will be 2\n",
    "z = int(\"3\") # z will be 3\n"
   ]
  },
  {
   "cell_type": "code",
   "execution_count": 37,
   "id": "e801a40b",
   "metadata": {},
   "outputs": [],
   "source": [
    "# Floats:\n",
    "\n",
    "x = float(1)     # x will be 1.0\n",
    "y = float(2.8)   # y will be 2.8\n",
    "z = float(\"3\")   # z will be 3.0\n",
    "w = float(\"4.2\") # w will be 4.2\n"
   ]
  },
  {
   "cell_type": "code",
   "execution_count": 38,
   "id": "f3b8c055",
   "metadata": {},
   "outputs": [],
   "source": [
    "# Strings:\n",
    "\n",
    "x = str(\"s1\") # x will be 's1'\n",
    "y = str(2)    # y will be '2'\n",
    "z = str(3.0)  # z will be '3.0'\n"
   ]
  },
  {
   "cell_type": "markdown",
   "id": "a2cc0df1",
   "metadata": {},
   "source": [
    "# Strings"
   ]
  },
  {
   "cell_type": "markdown",
   "id": "930317ad",
   "metadata": {},
   "source": [
    "Strings in python are surrounded by either single quotation marks, or double quotation marks.\n",
    "\n",
    "'hello' is the same as \"hello\".\n",
    "\n",
    "You can display a string literal with the print() function:"
   ]
  },
  {
   "cell_type": "code",
   "execution_count": 39,
   "id": "aac788e6",
   "metadata": {},
   "outputs": [
    {
     "name": "stdout",
     "output_type": "stream",
     "text": [
      "Hello\n",
      "Hello\n"
     ]
    }
   ],
   "source": [
    "print(\"Hello\")\n",
    "print('Hello')"
   ]
  },
  {
   "cell_type": "markdown",
   "id": "daa3b693",
   "metadata": {},
   "source": [
    "### Assign String to a Variable\n",
    "Assigning a string to a variable is done with the variable name followed by an equal sign and the string:\n"
   ]
  },
  {
   "cell_type": "code",
   "execution_count": 40,
   "id": "46a604ab",
   "metadata": {},
   "outputs": [
    {
     "name": "stdout",
     "output_type": "stream",
     "text": [
      "Hello\n"
     ]
    }
   ],
   "source": [
    "a = \"Hello\"\n",
    "print(a)"
   ]
  },
  {
   "cell_type": "markdown",
   "id": "b79fb865",
   "metadata": {},
   "source": [
    "### Multiline Strings\n",
    "You can assign a multiline string to a variable by using three quotes:"
   ]
  },
  {
   "cell_type": "code",
   "execution_count": 41,
   "id": "3ad42d02",
   "metadata": {},
   "outputs": [
    {
     "name": "stdout",
     "output_type": "stream",
     "text": [
      "I am a student from Sol Plaatje University. \n",
      "   Code Clinics and hackthons are cool and fun!!!\n"
     ]
    }
   ],
   "source": [
    "# You can use three double quotes:\n",
    "\n",
    "a = \"\"\"I am a student from Sol Plaatje University. \n",
    "   Code Clinics and hackthons are cool and fun!!!\"\"\"\n",
    "print(a)"
   ]
  },
  {
   "cell_type": "markdown",
   "id": "04838065",
   "metadata": {},
   "source": [
    "### Strings are Arrays\n",
    "Like many other popular programming languages, strings in Python are arrays of bytes representing unicode characters.\n",
    "\n",
    "However, Python does not have a character data type, a single character is simply a string with a length of 1.\n",
    "\n",
    "Square brackets can be used to access elements of the string."
   ]
  },
  {
   "cell_type": "code",
   "execution_count": 42,
   "id": "9d3c6e44",
   "metadata": {},
   "outputs": [
    {
     "name": "stdout",
     "output_type": "stream",
     "text": [
      "e\n"
     ]
    }
   ],
   "source": [
    "# Get the character at position 1 (remember that the first character has the position 0):\n",
    "\n",
    "a = \"Hello, World!\"\n",
    "print(a[1])"
   ]
  },
  {
   "cell_type": "markdown",
   "id": "9b14b4db",
   "metadata": {},
   "source": [
    "### Looping Through a String\n",
    "Since strings are arrays, we can loop through the characters in a string, with a for loop."
   ]
  },
  {
   "cell_type": "code",
   "execution_count": 43,
   "id": "6caf23e1",
   "metadata": {},
   "outputs": [
    {
     "name": "stdout",
     "output_type": "stream",
     "text": [
      "p\n",
      "i\n",
      "e\n",
      "s\n",
      "a\n",
      "n\n",
      "g\n"
     ]
    }
   ],
   "source": [
    "# Loop through the letters in the word \"pieang\":\n",
    "\n",
    "for x in \"piesang\":\n",
    "  print(x)"
   ]
  },
  {
   "cell_type": "markdown",
   "id": "33b7387a",
   "metadata": {},
   "source": [
    "### String Length\n",
    "To get the length of a string, use the len() function."
   ]
  },
  {
   "cell_type": "code",
   "execution_count": 44,
   "id": "d5f8481c",
   "metadata": {},
   "outputs": [
    {
     "name": "stdout",
     "output_type": "stream",
     "text": [
      "13\n"
     ]
    }
   ],
   "source": [
    "# The len() function returns the length of a string:\n",
    "\n",
    "a = \"Hello, World!\"\n",
    "print(len(a))"
   ]
  },
  {
   "cell_type": "markdown",
   "id": "a5ed882d",
   "metadata": {},
   "source": [
    "### Check String\n",
    "To check if a certain phrase or character is present in a string, we can use the keyword in."
   ]
  },
  {
   "cell_type": "code",
   "execution_count": 45,
   "id": "42a14f77",
   "metadata": {},
   "outputs": [
    {
     "name": "stdout",
     "output_type": "stream",
     "text": [
      "False\n"
     ]
    }
   ],
   "source": [
    "# Check if \"free\" is present in the following text:\n",
    "\n",
    "txt = \"Hard work pays off\"\n",
    "print(\"free\" in txt)"
   ]
  },
  {
   "cell_type": "markdown",
   "id": "b4202df2",
   "metadata": {},
   "source": [
    "Use it in an if statement:"
   ]
  },
  {
   "cell_type": "code",
   "execution_count": 46,
   "id": "c09e6ad0",
   "metadata": {},
   "outputs": [],
   "source": [
    "# Print only if \"free\" is present:\n",
    "\n",
    "if \"free\" in txt:\n",
    "  print(\"Yes, 'free' is present.\")"
   ]
  },
  {
   "cell_type": "markdown",
   "id": "f5a2e20d",
   "metadata": {},
   "source": [
    "### Check if NOT\n",
    "To check if a certain phrase or character is NOT present in a string, we can use the keyword not in."
   ]
  },
  {
   "cell_type": "code",
   "execution_count": 47,
   "id": "d6795dbb",
   "metadata": {},
   "outputs": [
    {
     "name": "stdout",
     "output_type": "stream",
     "text": [
      "True\n"
     ]
    }
   ],
   "source": [
    "# Check if \"expensive\" is NOT present in the following text:\n",
    "\n",
    "print(\"expensive\" not in txt)"
   ]
  },
  {
   "cell_type": "code",
   "execution_count": 48,
   "id": "0873219a",
   "metadata": {},
   "outputs": [
    {
     "name": "stdout",
     "output_type": "stream",
     "text": [
      "No, 'expensive' is NOT present.\n"
     ]
    }
   ],
   "source": [
    "# print only if \"expensive\" is NOT present:\n",
    "\n",
    "if \"expensive\" not in txt:\n",
    "  print(\"No, 'expensive' is NOT present.\")"
   ]
  },
  {
   "cell_type": "markdown",
   "id": "c4430e64",
   "metadata": {},
   "source": [
    "### Slicing Strings"
   ]
  },
  {
   "cell_type": "markdown",
   "id": "c4cf1695",
   "metadata": {},
   "source": [
    "### Slicing\n",
    "You can return a range of characters by using the slice syntax.\n",
    "\n",
    "Specify the start index and the end index, separated by a colon, to return a part of the string.\n",
    "\n",
    "The first character has index 0."
   ]
  },
  {
   "cell_type": "code",
   "execution_count": 49,
   "id": "a7bb8c89",
   "metadata": {},
   "outputs": [
    {
     "name": "stdout",
     "output_type": "stream",
     "text": [
      "llo\n"
     ]
    }
   ],
   "source": [
    "# Get the characters from position 2 to position 5 (not included):\n",
    "\n",
    "b = \"Hello, World!\"\n",
    "print(b[2:5])"
   ]
  },
  {
   "cell_type": "markdown",
   "id": "a58bf721",
   "metadata": {},
   "source": [
    "### Slice From the Start\n",
    "By leaving out the start index, the range will start at the first character:"
   ]
  },
  {
   "cell_type": "code",
   "execution_count": 50,
   "id": "20a74c9d",
   "metadata": {},
   "outputs": [
    {
     "name": "stdout",
     "output_type": "stream",
     "text": [
      "Hello\n"
     ]
    }
   ],
   "source": [
    "# Get the characters from the start to position 5 (not included):\n",
    "\n",
    "print(b[:5])"
   ]
  },
  {
   "cell_type": "markdown",
   "id": "130e372b",
   "metadata": {},
   "source": [
    "### Slice To the End\n",
    "By leaving out the end index, the range will go to the end:"
   ]
  },
  {
   "cell_type": "code",
   "execution_count": 51,
   "id": "df289df2",
   "metadata": {},
   "outputs": [
    {
     "name": "stdout",
     "output_type": "stream",
     "text": [
      "llo, World!\n"
     ]
    }
   ],
   "source": [
    "print(b[2:])"
   ]
  },
  {
   "cell_type": "markdown",
   "id": "e1954d23",
   "metadata": {},
   "source": [
    "### Negative Indexing\n",
    "Use negative indexes to start the slice from the end of the string:"
   ]
  },
  {
   "cell_type": "code",
   "execution_count": 52,
   "id": "6ab1742c",
   "metadata": {},
   "outputs": [
    {
     "name": "stdout",
     "output_type": "stream",
     "text": [
      "orl\n"
     ]
    }
   ],
   "source": [
    "print(b[-5:-2])"
   ]
  },
  {
   "cell_type": "markdown",
   "id": "656eccc7",
   "metadata": {},
   "source": [
    "Get the characters:\n",
    "\n",
    "From: \"o\" in \"World!\" (position -5)\n",
    "\n",
    "To, but not included: \"d\" in \"World!\" (position -2):"
   ]
  },
  {
   "cell_type": "markdown",
   "id": "b914802d",
   "metadata": {},
   "source": [
    "### Modify Strings"
   ]
  },
  {
   "cell_type": "code",
   "execution_count": 53,
   "id": "96f2cbe7",
   "metadata": {},
   "outputs": [
    {
     "name": "stdout",
     "output_type": "stream",
     "text": [
      "HELLO, WORLD!\n"
     ]
    }
   ],
   "source": [
    "## Upper Case\n",
    "# The upper() method returns the string in upper case:\n",
    "\n",
    "a = \"Hello, World!\"\n",
    "print(a.upper())"
   ]
  },
  {
   "cell_type": "code",
   "execution_count": 54,
   "id": "a91158f6",
   "metadata": {},
   "outputs": [
    {
     "name": "stdout",
     "output_type": "stream",
     "text": [
      "hello, world!\n"
     ]
    }
   ],
   "source": [
    "#Lower Case\n",
    "#The lower() method returns the string in lower case:\n",
    "\n",
    "print(a.lower())\n"
   ]
  },
  {
   "cell_type": "code",
   "execution_count": 55,
   "id": "027392a6",
   "metadata": {},
   "outputs": [
    {
     "name": "stdout",
     "output_type": "stream",
     "text": [
      "Hello, World!\n"
     ]
    }
   ],
   "source": [
    "# Remove Whitespace\n",
    "#Whitespace is the space before and/or after the actual text, and very often you want to remove this space.\n",
    "# The strip() method removes any whitespace from the beginning or the end:\n",
    "\n",
    "print(a.strip()) # returns \"Hello, World!\""
   ]
  },
  {
   "cell_type": "code",
   "execution_count": 56,
   "id": "788cb495",
   "metadata": {},
   "outputs": [
    {
     "name": "stdout",
     "output_type": "stream",
     "text": [
      "Jello, World!\n"
     ]
    }
   ],
   "source": [
    "#Replace String\n",
    "#The replace() method replaces a string with another string:\n",
    "\n",
    "print(a.replace(\"H\", \"J\"))\n"
   ]
  },
  {
   "cell_type": "code",
   "execution_count": 57,
   "id": "86e8883f",
   "metadata": {},
   "outputs": [
    {
     "name": "stdout",
     "output_type": "stream",
     "text": [
      "['Hello', ' World!']\n"
     ]
    }
   ],
   "source": [
    "#Split String\n",
    "#The split() method returns a list where the text between the specified separator becomes the list items\n",
    "#The split() method splits the string into substrings if it finds instances of the separator:\n",
    "\n",
    "print(a.split(\",\")) # returns ['Hello', ' World!']"
   ]
  },
  {
   "cell_type": "markdown",
   "id": "c43d875a",
   "metadata": {},
   "source": [
    "### String Concatenation\n",
    "\n",
    "To concatenate, or combine, two strings you can use the + operator."
   ]
  },
  {
   "cell_type": "code",
   "execution_count": 58,
   "id": "01b30a49",
   "metadata": {},
   "outputs": [
    {
     "name": "stdout",
     "output_type": "stream",
     "text": [
      "HelloWorld\n"
     ]
    }
   ],
   "source": [
    "# Merge variable a with variable b into variable c:\n",
    "\n",
    "a = \"Hello\"\n",
    "b = \"World\"\n",
    "c = a + b\n",
    "print(c)"
   ]
  },
  {
   "cell_type": "code",
   "execution_count": 59,
   "id": "6fef6ca9",
   "metadata": {},
   "outputs": [
    {
     "name": "stdout",
     "output_type": "stream",
     "text": [
      "Hello World\n"
     ]
    }
   ],
   "source": [
    "# To add a space between them, add a \" \":\n",
    "\n",
    "a = \"Hello\"\n",
    "b = \"World\"\n",
    "c = a + \" \" + b\n",
    "print(c)"
   ]
  },
  {
   "cell_type": "markdown",
   "id": "6c929f99",
   "metadata": {},
   "source": [
    "### Format - Strings"
   ]
  },
  {
   "cell_type": "code",
   "execution_count": 60,
   "id": "69cb11de",
   "metadata": {},
   "outputs": [
    {
     "ename": "TypeError",
     "evalue": "can only concatenate str (not \"int\") to str",
     "output_type": "error",
     "traceback": [
      "\u001b[1;31m---------------------------------------------------------------------------\u001b[0m",
      "\u001b[1;31mTypeError\u001b[0m                                 Traceback (most recent call last)",
      "\u001b[1;32m<ipython-input-60-88419f9db976>\u001b[0m in \u001b[0;36m<module>\u001b[1;34m\u001b[0m\n\u001b[0;32m      1\u001b[0m \u001b[0mage\u001b[0m \u001b[1;33m=\u001b[0m \u001b[1;36m45\u001b[0m\u001b[1;33m\u001b[0m\u001b[1;33m\u001b[0m\u001b[0m\n\u001b[1;32m----> 2\u001b[1;33m \u001b[0mtxt\u001b[0m \u001b[1;33m=\u001b[0m \u001b[1;34m\"My name is James, I am \"\u001b[0m \u001b[1;33m+\u001b[0m \u001b[0mage\u001b[0m\u001b[1;33m\u001b[0m\u001b[1;33m\u001b[0m\u001b[0m\n\u001b[0m\u001b[0;32m      3\u001b[0m \u001b[0mprint\u001b[0m\u001b[1;33m(\u001b[0m\u001b[0mtxt\u001b[0m\u001b[1;33m)\u001b[0m\u001b[1;33m\u001b[0m\u001b[1;33m\u001b[0m\u001b[0m\n",
      "\u001b[1;31mTypeError\u001b[0m: can only concatenate str (not \"int\") to str"
     ]
    }
   ],
   "source": [
    "age = 45\n",
    "txt = \"My name is James, I am \" + age\n",
    "print(txt)"
   ]
  },
  {
   "cell_type": "markdown",
   "id": "3eabba2d",
   "metadata": {},
   "source": [
    "But we can combine strings and numbers by using the format() method!\n",
    "\n",
    "The format() method takes the passed arguments, formats them, and places them in the string where the placeholders {} are:"
   ]
  },
  {
   "cell_type": "code",
   "execution_count": 61,
   "id": "d7b27cd0",
   "metadata": {},
   "outputs": [
    {
     "name": "stdout",
     "output_type": "stream",
     "text": [
      "My name is James, and I am 45\n"
     ]
    }
   ],
   "source": [
    "age = 45\n",
    "txt = \"My name is James, and I am {}\"\n",
    "print(txt.format(age))"
   ]
  },
  {
   "cell_type": "markdown",
   "id": "97d2c5aa",
   "metadata": {},
   "source": [
    "You can use index numbers {0} to be sure the arguments are placed in the correct placeholders:"
   ]
  },
  {
   "cell_type": "code",
   "execution_count": 62,
   "id": "9bdf36bb",
   "metadata": {},
   "outputs": [
    {
     "name": "stdout",
     "output_type": "stream",
     "text": [
      "I want to pay 49.95 dollars for 3 pieces of item 567.\n"
     ]
    }
   ],
   "source": [
    "quantity = 3\n",
    "itemno = 567\n",
    "price = 49.95\n",
    "myorder = \"I want to pay {2} dollars for {0} pieces of item {1}.\"\n",
    "print(myorder.format(quantity, itemno, price))"
   ]
  },
  {
   "cell_type": "markdown",
   "id": "6ae8e0f2",
   "metadata": {},
   "source": [
    "# Python Booleans "
   ]
  },
  {
   "cell_type": "markdown",
   "id": "009af2c7",
   "metadata": {},
   "source": [
    "Booleans represent one of two values: True or False."
   ]
  },
  {
   "cell_type": "markdown",
   "id": "14c7058e",
   "metadata": {},
   "source": [
    "### Boolean Values\n",
    "In programming you often need to know if an expression is True or False.\n",
    "\n",
    "You can evaluate any expression in Python, and get one of two answers, True or False.\n",
    "\n",
    "When you compare two values, the expression is evaluated and Python returns the Boolean answer:"
   ]
  },
  {
   "cell_type": "code",
   "execution_count": 63,
   "id": "0b7a5587",
   "metadata": {},
   "outputs": [
    {
     "name": "stdout",
     "output_type": "stream",
     "text": [
      "True\n",
      "False\n",
      "False\n"
     ]
    }
   ],
   "source": [
    "print(10 > 9)\n",
    "print(10 == 9)\n",
    "print(10 < 9)"
   ]
  },
  {
   "cell_type": "markdown",
   "id": "a5d6e4a4",
   "metadata": {},
   "source": [
    "### Evaluate Values and Variables\n",
    "The bool() function allows you to evaluate any value, and give you True or False in return,"
   ]
  },
  {
   "cell_type": "code",
   "execution_count": 65,
   "id": "acc5eff6",
   "metadata": {},
   "outputs": [
    {
     "name": "stdout",
     "output_type": "stream",
     "text": [
      "True\n",
      "True\n"
     ]
    }
   ],
   "source": [
    "# Evaluate a string and a number:\n",
    "\n",
    "print(bool(\"Hello\"))\n",
    "print(bool(15))"
   ]
  },
  {
   "cell_type": "code",
   "execution_count": 66,
   "id": "f2fabb2f",
   "metadata": {},
   "outputs": [
    {
     "name": "stdout",
     "output_type": "stream",
     "text": [
      "True\n",
      "True\n"
     ]
    }
   ],
   "source": [
    "# Evaluate two variables:\n",
    "\n",
    "x = \"Hello\"\n",
    "y = 15\n",
    "\n",
    "print(bool(x))\n",
    "print(bool(y))"
   ]
  },
  {
   "cell_type": "markdown",
   "id": "8d87ecb6",
   "metadata": {},
   "source": [
    "### Most Values are True\n",
    "Almost any value is evaluated to True if it has some sort of content.\n",
    "\n",
    "Any string is True, except empty strings.\n",
    "\n",
    "Any number is True, except 0.\n",
    "\n",
    "Any list, tuple, set, and dictionary are True, except empty ones."
   ]
  },
  {
   "cell_type": "code",
   "execution_count": 67,
   "id": "b02747b6",
   "metadata": {},
   "outputs": [
    {
     "data": {
      "text/plain": [
       "True"
      ]
     },
     "execution_count": 67,
     "metadata": {},
     "output_type": "execute_result"
    }
   ],
   "source": [
    "# The following will return True:\n",
    "\n",
    "bool(\"abc\")\n",
    "bool(123)\n",
    "bool([\"apple\", \"cherry\", \"piesang\"])"
   ]
  },
  {
   "cell_type": "markdown",
   "id": "cdae7621",
   "metadata": {},
   "source": [
    "### Some Values are False\n",
    "In fact, there are not many values that evaluate to False, except empty values, such as (), [], {}, \"\", the number 0, and the value None. And of course the value False evaluates to False."
   ]
  },
  {
   "cell_type": "code",
   "execution_count": 68,
   "id": "00a30da5",
   "metadata": {},
   "outputs": [
    {
     "data": {
      "text/plain": [
       "False"
      ]
     },
     "execution_count": 68,
     "metadata": {},
     "output_type": "execute_result"
    }
   ],
   "source": [
    "# The following will return False:\n",
    "\n",
    "bool(False)\n",
    "bool(None)\n",
    "bool(0)\n",
    "bool(\"\")\n",
    "bool(())\n",
    "bool([])\n",
    "bool({})"
   ]
  },
  {
   "cell_type": "code",
   "execution_count": 69,
   "id": "58aa5789",
   "metadata": {},
   "outputs": [
    {
     "name": "stdout",
     "output_type": "stream",
     "text": [
      "True\n"
     ]
    }
   ],
   "source": [
    "# Check if an object is an integer or not:\n",
    "\n",
    "x = 200\n",
    "print(isinstance(x, int))"
   ]
  },
  {
   "cell_type": "markdown",
   "id": "16e40c5a",
   "metadata": {},
   "source": [
    "#### Content on if - else statements with booleans has been removed as loops have not been covered. "
   ]
  },
  {
   "cell_type": "markdown",
   "id": "173a3e93",
   "metadata": {},
   "source": [
    "# Python Operators"
   ]
  },
  {
   "cell_type": "markdown",
   "id": "81a8d131",
   "metadata": {},
   "source": [
    "### Python Operators\n",
    "Operators are used to perform operations on variables and values.\n",
    "\n",
    "In the example below, we use the + operator to add together two values:"
   ]
  },
  {
   "cell_type": "code",
   "execution_count": 70,
   "id": "cf135654",
   "metadata": {},
   "outputs": [
    {
     "name": "stdout",
     "output_type": "stream",
     "text": [
      "15\n"
     ]
    }
   ],
   "source": [
    "print(10 + 5)"
   ]
  },
  {
   "cell_type": "markdown",
   "id": "828099ea",
   "metadata": {},
   "source": [
    "Python divides the operators in the following groups:\n",
    "\n",
    "* Arithmetic operators\n",
    "* Assignment operators\n",
    "* Comparison operators\n",
    "* Logical operators\n",
    "* Identity operators\n",
    "* Membership operators\n",
    "* Bitwise operators\n"
   ]
  },
  {
   "cell_type": "markdown",
   "id": "9ed7f709",
   "metadata": {},
   "source": [
    "### Go on website to find out more information on above mentioned operators."
   ]
  },
  {
   "cell_type": "markdown",
   "id": "15ff57aa",
   "metadata": {},
   "source": [
    "### Arithmetic Operators"
   ]
  },
  {
   "cell_type": "code",
   "execution_count": 71,
   "id": "29db2c6c",
   "metadata": {},
   "outputs": [],
   "source": [
    "a = 20\n",
    "b = 15"
   ]
  },
  {
   "cell_type": "code",
   "execution_count": 72,
   "id": "5967625a",
   "metadata": {},
   "outputs": [
    {
     "data": {
      "text/plain": [
       "5"
      ]
     },
     "execution_count": 72,
     "metadata": {},
     "output_type": "execute_result"
    }
   ],
   "source": [
    "# Subtraction\n",
    "a -b"
   ]
  },
  {
   "cell_type": "code",
   "execution_count": 73,
   "id": "dfc7f0b3",
   "metadata": {},
   "outputs": [
    {
     "data": {
      "text/plain": [
       "300"
      ]
     },
     "execution_count": 73,
     "metadata": {},
     "output_type": "execute_result"
    }
   ],
   "source": [
    "# multiplication\n",
    "a*b"
   ]
  },
  {
   "cell_type": "code",
   "execution_count": 74,
   "id": "89c26826",
   "metadata": {},
   "outputs": [
    {
     "data": {
      "text/plain": [
       "1.3333333333333333"
      ]
     },
     "execution_count": 74,
     "metadata": {},
     "output_type": "execute_result"
    }
   ],
   "source": [
    "# division\n",
    "a/b"
   ]
  },
  {
   "cell_type": "code",
   "execution_count": 75,
   "id": "6433b38b",
   "metadata": {},
   "outputs": [
    {
     "data": {
      "text/plain": [
       "5"
      ]
     },
     "execution_count": 75,
     "metadata": {},
     "output_type": "execute_result"
    }
   ],
   "source": [
    "# modulus or the reminder from doing long divion of (20/15), where you get 1,5 as an answer \n",
    "a%b"
   ]
  },
  {
   "cell_type": "code",
   "execution_count": 76,
   "id": "305c9147",
   "metadata": {},
   "outputs": [
    {
     "data": {
      "text/plain": [
       "32768000000000000000"
      ]
     },
     "execution_count": 76,
     "metadata": {},
     "output_type": "execute_result"
    }
   ],
   "source": [
    "## Exponentiation: 20 to the power 15\n",
    "a**b"
   ]
  },
  {
   "cell_type": "code",
   "execution_count": 77,
   "id": "e83233e1",
   "metadata": {},
   "outputs": [
    {
     "data": {
      "text/plain": [
       "1"
      ]
     },
     "execution_count": 77,
     "metadata": {},
     "output_type": "execute_result"
    }
   ],
   "source": [
    "## floor division: when dividing 20 /15, you only take the 1 and not the remainder.\n",
    "a//b"
   ]
  },
  {
   "cell_type": "markdown",
   "id": "25e93c5f",
   "metadata": {},
   "source": [
    "### Python Collections (Arrays)\n",
    "There are four collection data types in the Python programming language:\n",
    "\n",
    "List is a collection which is ordered and changeable. Allows duplicate members.\n",
    "Tuple is a collection which is ordered and unchangeable. Allows duplicate members.\n",
    "Set is a collection which is unordered, unchangeable, and unindexed. No duplicate members.\n",
    "Dictionary is a collection which is ordered* and changeable. No duplicate members.\n",
    "\n",
    "Check out content on third years for lists, arrays, tuples, dictionaries and dataframes"
   ]
  },
  {
   "cell_type": "code",
   "execution_count": null,
   "id": "b12c1f7c",
   "metadata": {},
   "outputs": [],
   "source": []
  }
 ],
 "metadata": {
  "kernelspec": {
   "display_name": "Python 3",
   "language": "python",
   "name": "python3"
  },
  "language_info": {
   "codemirror_mode": {
    "name": "ipython",
    "version": 3
   },
   "file_extension": ".py",
   "mimetype": "text/x-python",
   "name": "python",
   "nbconvert_exporter": "python",
   "pygments_lexer": "ipython3",
   "version": "3.8.8"
  }
 },
 "nbformat": 4,
 "nbformat_minor": 5
}
