{
 "cells": [
  {
   "cell_type": "markdown",
   "id": "14273b50",
   "metadata": {},
   "source": [
    "The ability to learn from data defines our scientific endevour. Data hides useful information, whether that information be in spreadsheets, images, sounds, and even the written word. Modern tools are making extracting knowledge from data ever more powerful, and perhaps more importantly, easier.\n",
    "\n",
    "A quick YouTube search will show an endless supply of tutorials on data science and Python. Along with Google, Stackoverflow, Kaggle and Towards Data Science.\n",
    "\n",
    "Resources for all produced material.\n",
    "\n",
    "* https://www.kaggle.com/learn/pandas\n",
    "* https://docs.python.org/3/tutorial/index.html\n",
    "* https://devdocs.io/pandas~0.25/reference/api/pandas.dataframe"
   ]
  },
  {
   "cell_type": "markdown",
   "id": "35991bfa",
   "metadata": {},
   "source": [
    "# Lists"
   ]
  },
  {
   "cell_type": "markdown",
   "id": "ffe19398",
   "metadata": {},
   "source": [
    "## Create a list\n",
    "\n",
    "A list in Python is created using a set of square brackets. The elements are all seprarated by a comma. You can have integer and string 'character' data types.\n",
    "\n",
    "The positions of the elements within a list start from 0 'zero', [0 |1 |2 |3 |...]. So in a list with elements [a,b,c,d,e,f], a has the zero'th position, 'b' has the first position, c has the second position, etc."
   ]
  },
  {
   "cell_type": "code",
   "execution_count": 161,
   "id": "e77bf1f6",
   "metadata": {},
   "outputs": [],
   "source": [
    "my_list = [1,2,3,4,5,6] "
   ]
  },
  {
   "cell_type": "code",
   "execution_count": 162,
   "id": "e8f8a23e",
   "metadata": {},
   "outputs": [
    {
     "name": "stdout",
     "output_type": "stream",
     "text": [
      "1\n"
     ]
    }
   ],
   "source": [
    "# list index, get the first value within the list\n",
    "print(my_list[0])"
   ]
  },
  {
   "cell_type": "code",
   "execution_count": 163,
   "id": "131965f1",
   "metadata": {},
   "outputs": [
    {
     "data": {
      "text/plain": [
       "6"
      ]
     },
     "execution_count": 163,
     "metadata": {},
     "output_type": "execute_result"
    }
   ],
   "source": [
    "# get the last value from the list, using negative indexing \n",
    "my_list[-1]"
   ]
  },
  {
   "cell_type": "code",
   "execution_count": 173,
   "id": "8f52235b",
   "metadata": {},
   "outputs": [
    {
     "data": {
      "text/plain": [
       "[3, 4, 5, 6]"
      ]
     },
     "execution_count": 173,
     "metadata": {},
     "output_type": "execute_result"
    }
   ],
   "source": [
    "# deleting the 1st item in a list\n",
    "## we can also use pop(), remove() to delete elements in a list \n",
    "del my_list[0]\n",
    "my_list"
   ]
  },
  {
   "cell_type": "code",
   "execution_count": 165,
   "id": "6da6d1d1",
   "metadata": {},
   "outputs": [
    {
     "data": {
      "text/plain": [
       "5"
      ]
     },
     "execution_count": 165,
     "metadata": {},
     "output_type": "execute_result"
    }
   ],
   "source": [
    "# Use the length function to get the number of elements in the list\n",
    "len(my_list)"
   ]
  },
  {
   "cell_type": "code",
   "execution_count": 67,
   "id": "06208625",
   "metadata": {},
   "outputs": [
    {
     "data": {
      "text/plain": [
       "[2, 3, 4, 5, 6, 7]"
      ]
     },
     "execution_count": 67,
     "metadata": {},
     "output_type": "execute_result"
    }
   ],
   "source": [
    "# add an integer 7 to the list\n",
    "# # we use append() to add an element to our list. In this case we will include the exacty value of the element we want to add.\n",
    "my_list.append(7)\n",
    "my_list"
   ]
  },
  {
   "cell_type": "markdown",
   "id": "8fd15640",
   "metadata": {},
   "source": [
    "# Exercise"
   ]
  },
  {
   "cell_type": "markdown",
   "id": "ce9432fd",
   "metadata": {},
   "source": [
    "#### Question 1\n",
    "Create a list called list1 andassign the digits 0,..9 to it. "
   ]
  },
  {
   "cell_type": "code",
   "execution_count": 177,
   "id": "8ad06dbf",
   "metadata": {},
   "outputs": [],
   "source": [
    "list1 = [0,1,2,3,4,5,6,7,8,9]"
   ]
  },
  {
   "cell_type": "markdown",
   "id": "ef67285a",
   "metadata": {},
   "source": [
    "#### Question 2\n",
    "Output the first element in the list."
   ]
  },
  {
   "cell_type": "code",
   "execution_count": 178,
   "id": "20015e4d",
   "metadata": {},
   "outputs": [
    {
     "data": {
      "text/plain": [
       "0"
      ]
     },
     "execution_count": 178,
     "metadata": {},
     "output_type": "execute_result"
    }
   ],
   "source": [
    "list1[0]"
   ]
  },
  {
   "cell_type": "markdown",
   "id": "02600807",
   "metadata": {},
   "source": [
    "#### Question 3\n",
    "Output the last element in the list."
   ]
  },
  {
   "cell_type": "code",
   "execution_count": 179,
   "id": "cb82fa50",
   "metadata": {},
   "outputs": [
    {
     "data": {
      "text/plain": [
       "9"
      ]
     },
     "execution_count": 179,
     "metadata": {},
     "output_type": "execute_result"
    }
   ],
   "source": [
    "list1[-1]"
   ]
  },
  {
   "cell_type": "markdown",
   "id": "a5ed3ced",
   "metadata": {},
   "source": [
    "#### Question 4\n",
    "Delete the value 3 from your list."
   ]
  },
  {
   "cell_type": "code",
   "execution_count": 180,
   "id": "b87eccfa",
   "metadata": {},
   "outputs": [
    {
     "data": {
      "text/plain": [
       "[0, 1, 2, 4, 5, 6, 7, 8, 9]"
      ]
     },
     "execution_count": 180,
     "metadata": {},
     "output_type": "execute_result"
    }
   ],
   "source": [
    "del list1[3]\n",
    "list1"
   ]
  },
  {
   "cell_type": "markdown",
   "id": "6f6cd345",
   "metadata": {},
   "source": [
    "#### Question 5\n",
    "Add the value 13 in your list."
   ]
  },
  {
   "cell_type": "code",
   "execution_count": 181,
   "id": "3d59cd6d",
   "metadata": {},
   "outputs": [],
   "source": [
    "list1.append(13)"
   ]
  },
  {
   "cell_type": "code",
   "execution_count": 182,
   "id": "a8695c27",
   "metadata": {},
   "outputs": [
    {
     "data": {
      "text/plain": [
       "[0, 1, 2, 4, 5, 6, 7, 8, 9, 13]"
      ]
     },
     "execution_count": 182,
     "metadata": {},
     "output_type": "execute_result"
    }
   ],
   "source": [
    "## Just checking to see if 13 is added to list1\n",
    "list1"
   ]
  },
  {
   "cell_type": "markdown",
   "id": "e1477ecd",
   "metadata": {},
   "source": [
    "### There are countless other operations you can perform on lists."
   ]
  },
  {
   "cell_type": "markdown",
   "id": "b9bf3686",
   "metadata": {},
   "source": [
    "#\n",
    "\n",
    "#\n",
    "\n",
    "#\n",
    "\n",
    "#\n",
    "\n",
    "#\n",
    "\n",
    "#"
   ]
  },
  {
   "cell_type": "markdown",
   "id": "3f0ae4a5",
   "metadata": {},
   "source": [
    "# Tuples "
   ]
  },
  {
   "cell_type": "markdown",
   "id": "0d94a2cf",
   "metadata": {},
   "source": [
    "## Create a Tuple\n",
    "Tuples are much like lists. The elements are immutable, though. This means that they cannot be changed once created.\n"
   ]
  },
  {
   "cell_type": "code",
   "execution_count": 13,
   "id": "f8c9269b",
   "metadata": {},
   "outputs": [
    {
     "data": {
      "text/plain": [
       "(3, 5, 'two')"
      ]
     },
     "execution_count": 13,
     "metadata": {},
     "output_type": "execute_result"
    }
   ],
   "source": [
    "my_tuple = (3, 5, 'two')\n",
    "my_tuple"
   ]
  },
  {
   "cell_type": "code",
   "execution_count": 14,
   "id": "5e611247",
   "metadata": {},
   "outputs": [
    {
     "data": {
      "text/plain": [
       "'two'"
      ]
     },
     "execution_count": 14,
     "metadata": {},
     "output_type": "execute_result"
    }
   ],
   "source": [
    "## call the last element in the tuple\n",
    "my_tuple[-1] "
   ]
  },
  {
   "cell_type": "code",
   "execution_count": 15,
   "id": "9874d833",
   "metadata": {},
   "outputs": [],
   "source": [
    "one, two, three = my_tuple "
   ]
  },
  {
   "cell_type": "code",
   "execution_count": 184,
   "id": "9676fb52",
   "metadata": {},
   "outputs": [
    {
     "data": {
      "text/plain": [
       "'two'"
      ]
     },
     "execution_count": 184,
     "metadata": {},
     "output_type": "execute_result"
    }
   ],
   "source": [
    "three"
   ]
  },
  {
   "cell_type": "markdown",
   "id": "ed511553",
   "metadata": {},
   "source": [
    "This is like saying:\n",
    "* one = my_tuple[0]\n",
    "* two = my_tuple[1]\n",
    "* three = my_tuple[2]"
   ]
  },
  {
   "cell_type": "markdown",
   "id": "df39f5f3",
   "metadata": {},
   "source": [
    "### There are other operations you can perform on tuples"
   ]
  },
  {
   "cell_type": "markdown",
   "id": "ca3f822d",
   "metadata": {},
   "source": [
    "#\n",
    "\n",
    "#\n",
    "\n",
    "#\n",
    "\n",
    "#\n",
    "\n",
    "#\n",
    "\n",
    "#"
   ]
  },
  {
   "cell_type": "markdown",
   "id": "bab36582",
   "metadata": {},
   "source": [
    "# Dictionary"
   ]
  },
  {
   "cell_type": "markdown",
   "id": "baf1fa42",
   "metadata": {},
   "source": [
    "Dictionaries are collections where each element is a key-value pair. Every value has a key (a name). Python uses curly braces to indicate dictionaries.\n",
    "\n",
    "#### Syntax\n",
    "\n",
    "my_dict = {\"key\":\"value\"}"
   ]
  },
  {
   "cell_type": "code",
   "execution_count": 57,
   "id": "a64a9a80",
   "metadata": {},
   "outputs": [
    {
     "data": {
      "text/plain": [
       "{'Language': 'Python', 'Version': 3, 'Environment': 'Colab'}"
      ]
     },
     "execution_count": 57,
     "metadata": {},
     "output_type": "execute_result"
    }
   ],
   "source": [
    "# create a dictionary of key-value pairs\n",
    "my_dict = {'Language':'Python',\n",
    "           'Version':3,\n",
    "           'Environment':'Colab'}\n",
    "my_dict"
   ]
  },
  {
   "cell_type": "code",
   "execution_count": 54,
   "id": "99809166",
   "metadata": {},
   "outputs": [
    {
     "name": "stdout",
     "output_type": "stream",
     "text": [
      "dict_keys(['Language', 'Version', 'Environment'])\n",
      "dict_values(['Python', 3, 'Colab'])\n"
     ]
    }
   ],
   "source": [
    "## DICTIONARY = key : value\n",
    "print(my_dict.keys())\n",
    "print(my_dict.values())"
   ]
  },
  {
   "cell_type": "code",
   "execution_count": 55,
   "id": "c0452676",
   "metadata": {},
   "outputs": [
    {
     "data": {
      "text/plain": [
       "dict_items([('Language', 'Python'), ('Version', 3), ('Environment', 'Colab')])"
      ]
     },
     "execution_count": 55,
     "metadata": {},
     "output_type": "execute_result"
    }
   ],
   "source": [
    "# Retrieve keys and values\n",
    "my_dict.items()"
   ]
  },
  {
   "cell_type": "code",
   "execution_count": 56,
   "id": "a257faa7",
   "metadata": {},
   "outputs": [
    {
     "data": {
      "text/plain": [
       "3"
      ]
     },
     "execution_count": 56,
     "metadata": {},
     "output_type": "execute_result"
    }
   ],
   "source": [
    "# Value of Version key\n",
    "my_dict.get('Version')"
   ]
  },
  {
   "cell_type": "markdown",
   "id": "9090903f",
   "metadata": {},
   "source": [
    "Instead of curly braces, the alternative syntax uses a list of tuples as a list and the latter as argument to the dict function"
   ]
  },
  {
   "cell_type": "code",
   "execution_count": 58,
   "id": "01992bbf",
   "metadata": {},
   "outputs": [
    {
     "data": {
      "text/plain": [
       "{'Language': 'Python', 'Version': 3.8, 'Environment': ['Spyder', 'Notebook']}"
      ]
     },
     "execution_count": 58,
     "metadata": {},
     "output_type": "execute_result"
    }
   ],
   "source": [
    "# Alternative syntax with list of tuples\n",
    "my_other_dict = dict([('Language', 'Python'),\n",
    "                      ('Version', 3.8),\n",
    "                      ('Environment', ['Spyder', 'Notebook'])])\n",
    "my_other_dict"
   ]
  },
  {
   "cell_type": "markdown",
   "id": "6dcf88ef",
   "metadata": {},
   "source": [
    "# Exercise"
   ]
  },
  {
   "cell_type": "markdown",
   "id": "460ed399",
   "metadata": {},
   "source": [
    "#### Question 1\n",
    "Create a dictionary called dict_ab. The keys should be (Name, School, Course) and the values should be ( your_name, Name_of_University, Your_course). E.g Name_of_University = SPU "
   ]
  },
  {
   "cell_type": "code",
   "execution_count": 190,
   "id": "6fb1051f",
   "metadata": {},
   "outputs": [
    {
     "data": {
      "text/plain": [
       "{'Name': 'Hanna', 'School': 'SPU', 'Course': 'Data Science'}"
      ]
     },
     "execution_count": 190,
     "metadata": {},
     "output_type": "execute_result"
    }
   ],
   "source": [
    "dict_ab = {'Name': 'Hanna',\n",
    "            'School': 'SPU',\n",
    "            'Course': 'Data Science'}\n",
    "\n",
    "dict_ab"
   ]
  },
  {
   "cell_type": "markdown",
   "id": "0db3de59",
   "metadata": {},
   "source": [
    "### OR"
   ]
  },
  {
   "cell_type": "code",
   "execution_count": 191,
   "id": "fdd7e658",
   "metadata": {},
   "outputs": [
    {
     "data": {
      "text/plain": [
       "{'name': 'Hanna', 'School': 'Spu', 'Course': 'Data_Science'}"
      ]
     },
     "execution_count": 191,
     "metadata": {},
     "output_type": "execute_result"
    }
   ],
   "source": [
    "dict_ab = dict([(\"name\",'Hanna'),\n",
    "                 ('School','Spu'),\n",
    "                 ('Course','Data_Science')])\n",
    "dict_ab"
   ]
  },
  {
   "cell_type": "markdown",
   "id": "dc121ed5",
   "metadata": {},
   "source": [
    "#### Question 2\n",
    "Output your values and keys of your dictionary below each other. "
   ]
  },
  {
   "cell_type": "code",
   "execution_count": 192,
   "id": "66fb7ba7",
   "metadata": {},
   "outputs": [
    {
     "name": "stdout",
     "output_type": "stream",
     "text": [
      "dict_keys(['name', 'School', 'Course'])\n",
      "dict_values(['Hanna', 'Spu', 'Data_Science'])\n"
     ]
    }
   ],
   "source": [
    "print(dict_ab.keys())\n",
    "print(dict_ab.values())"
   ]
  },
  {
   "cell_type": "markdown",
   "id": "cae06bca",
   "metadata": {},
   "source": [
    "#\n",
    "\n",
    "#\n",
    "\n",
    "#\n",
    "\n",
    "#\n",
    "\n",
    "#\n",
    "\n",
    "#\n"
   ]
  },
  {
   "cell_type": "markdown",
   "id": "1dc015ea",
   "metadata": {},
   "source": [
    "# Arrays "
   ]
  },
  {
   "cell_type": "markdown",
   "id": "c1e4e5eb",
   "metadata": {},
   "source": [
    "Think of an array as a nested list or a list in a list. "
   ]
  },
  {
   "cell_type": "code",
   "execution_count": 17,
   "id": "c22e33e7",
   "metadata": {},
   "outputs": [
    {
     "data": {
      "text/plain": [
       "[[1, 2, 3], [4, 5, 6]]"
      ]
     },
     "execution_count": 17,
     "metadata": {},
     "output_type": "execute_result"
    }
   ],
   "source": [
    "ab = [[1,2,3],[4,5,6]] \n",
    "ab"
   ]
  },
  {
   "cell_type": "markdown",
   "id": "4240a542",
   "metadata": {},
   "source": [
    "Arrays are python lists and we will be using the Numpy library to create our arrays. We do this with a namespace abbreviation , np. We generate arrays with the function array() where the elements are passed as a list."
   ]
  },
  {
   "cell_type": "markdown",
   "id": "73d022ba",
   "metadata": {},
   "source": [
    "# Numpy Library"
   ]
  },
  {
   "cell_type": "code",
   "execution_count": 18,
   "id": "3a752c18",
   "metadata": {},
   "outputs": [],
   "source": [
    "# Make sure that you have installed your numpy library\n",
    "import numpy as np"
   ]
  },
  {
   "cell_type": "code",
   "execution_count": 20,
   "id": "e89e98e6",
   "metadata": {},
   "outputs": [
    {
     "data": {
      "text/plain": [
       "array([[1, 2, 3],\n",
       "       [4, 5, 6]])"
      ]
     },
     "execution_count": 20,
     "metadata": {},
     "output_type": "execute_result"
    }
   ],
   "source": [
    "## Create an array called ab, with two lists inside.\n",
    "ab = np.array([[1,2,3],[4,5,6]])\n",
    "ab"
   ]
  },
  {
   "cell_type": "code",
   "execution_count": 21,
   "id": "6e13cec8",
   "metadata": {},
   "outputs": [
    {
     "data": {
      "text/plain": [
       "21"
      ]
     },
     "execution_count": 21,
     "metadata": {},
     "output_type": "execute_result"
    }
   ],
   "source": [
    "# the sum of your array\n",
    "ab.sum()"
   ]
  },
  {
   "cell_type": "code",
   "execution_count": 22,
   "id": "22485134",
   "metadata": {},
   "outputs": [
    {
     "data": {
      "text/plain": [
       "2"
      ]
     },
     "execution_count": 22,
     "metadata": {},
     "output_type": "execute_result"
    }
   ],
   "source": [
    "## think of it as the number of lists in your array\n",
    "len(ab)"
   ]
  },
  {
   "cell_type": "code",
   "execution_count": 23,
   "id": "c10e3575",
   "metadata": {},
   "outputs": [
    {
     "data": {
      "text/plain": [
       "numpy.ndarray"
      ]
     },
     "execution_count": 23,
     "metadata": {},
     "output_type": "execute_result"
    }
   ],
   "source": [
    "## the n dimensional array \n",
    "type(ab)"
   ]
  },
  {
   "cell_type": "code",
   "execution_count": 24,
   "id": "d54434fb",
   "metadata": {},
   "outputs": [
    {
     "data": {
      "text/plain": [
       "(2, 3)"
      ]
     },
     "execution_count": 24,
     "metadata": {},
     "output_type": "execute_result"
    }
   ],
   "source": [
    "# the shape of the array, we have you 2 rows and 3 columns \n",
    "ab.shape"
   ]
  },
  {
   "cell_type": "markdown",
   "id": "114ee080",
   "metadata": {},
   "source": [
    "### Joining Array"
   ]
  },
  {
   "cell_type": "code",
   "execution_count": 197,
   "id": "70d03285",
   "metadata": {},
   "outputs": [
    {
     "data": {
      "text/plain": [
       "array([[1, 2, 5, 4],\n",
       "       [5, 6, 8, 9]])"
      ]
     },
     "execution_count": 197,
     "metadata": {},
     "output_type": "execute_result"
    }
   ],
   "source": [
    "## vstack: vertical stack \n",
    "n1 = np.array([1,2,5,4])\n",
    "n2 = np.array([5,6,8,9])\n",
    "np.vstack((n1,n2))"
   ]
  },
  {
   "cell_type": "code",
   "execution_count": 195,
   "id": "68fec42c",
   "metadata": {},
   "outputs": [
    {
     "data": {
      "text/plain": [
       "array([1, 2, 5, 4, 5, 6, 8, 9])"
      ]
     },
     "execution_count": 195,
     "metadata": {},
     "output_type": "execute_result"
    }
   ],
   "source": [
    "## hstack: horizontal stack \n",
    "np.hstack((n1,n2))"
   ]
  },
  {
   "cell_type": "code",
   "execution_count": 35,
   "id": "7586a188",
   "metadata": {},
   "outputs": [
    {
     "data": {
      "text/plain": [
       "array([[1, 5],\n",
       "       [2, 6],\n",
       "       [5, 8],\n",
       "       [4, 9]])"
      ]
     },
     "execution_count": 35,
     "metadata": {},
     "output_type": "execute_result"
    }
   ],
   "source": [
    "## column_stack: stack arrays into separate columns \n",
    "np.column_stack((n1,n2))"
   ]
  },
  {
   "cell_type": "code",
   "execution_count": 36,
   "id": "03731c65",
   "metadata": {},
   "outputs": [
    {
     "data": {
      "text/plain": [
       "array([5])"
      ]
     },
     "execution_count": 36,
     "metadata": {},
     "output_type": "execute_result"
    }
   ],
   "source": [
    "## similar value in the array or 2 lists.\n",
    "np.intersect1d(n1,n2)"
   ]
  },
  {
   "cell_type": "markdown",
   "id": "ea8f6a20",
   "metadata": {},
   "source": [
    "# Exercise"
   ]
  },
  {
   "cell_type": "markdown",
   "id": "18c76b13",
   "metadata": {},
   "source": [
    "### Question 1\n",
    "Create an array called 'arr1' and 'arr2'. Input the values 1,2,3,4,5 for first array and 6,7,8,9,10 for second array."
   ]
  },
  {
   "cell_type": "code",
   "execution_count": 199,
   "id": "c92d1d67",
   "metadata": {},
   "outputs": [
    {
     "name": "stdout",
     "output_type": "stream",
     "text": [
      "[1 2 3 4 5]\n",
      "[ 6  7  8  9 10]\n"
     ]
    }
   ],
   "source": [
    "arr1 = np.array([1,2,3,4,5])\n",
    "arr2 = np.array([6,7,8,9,10])\n",
    "print(arr1)\n",
    "print(arr2)"
   ]
  },
  {
   "cell_type": "code",
   "execution_count": 200,
   "id": "c16a78b9",
   "metadata": {},
   "outputs": [
    {
     "data": {
      "text/plain": [
       "array([1, 2, 3, 4, 5])"
      ]
     },
     "execution_count": 200,
     "metadata": {},
     "output_type": "execute_result"
    }
   ],
   "source": [
    "arr1"
   ]
  },
  {
   "cell_type": "code",
   "execution_count": 201,
   "id": "1fb22d7a",
   "metadata": {},
   "outputs": [
    {
     "data": {
      "text/plain": [
       "array([ 6,  7,  8,  9, 10])"
      ]
     },
     "execution_count": 201,
     "metadata": {},
     "output_type": "execute_result"
    }
   ],
   "source": [
    "arr2"
   ]
  },
  {
   "cell_type": "markdown",
   "id": "68e6eb99",
   "metadata": {},
   "source": [
    "### Question 2\n",
    "Get the vertical stack of the two arrays"
   ]
  },
  {
   "cell_type": "code",
   "execution_count": 202,
   "id": "1cf94af4",
   "metadata": {},
   "outputs": [
    {
     "data": {
      "text/plain": [
       "array([[ 1,  2,  3,  4,  5],\n",
       "       [ 6,  7,  8,  9, 10]])"
      ]
     },
     "execution_count": 202,
     "metadata": {},
     "output_type": "execute_result"
    }
   ],
   "source": [
    "np.vstack((arr1,arr2))"
   ]
  },
  {
   "cell_type": "markdown",
   "id": "da94254a",
   "metadata": {},
   "source": [
    "### Question 3\n",
    "Get a common value between the arrays "
   ]
  },
  {
   "cell_type": "code",
   "execution_count": 203,
   "id": "1e30e4ae",
   "metadata": {},
   "outputs": [
    {
     "data": {
      "text/plain": [
       "array([], dtype=int32)"
      ]
     },
     "execution_count": 203,
     "metadata": {},
     "output_type": "execute_result"
    }
   ],
   "source": [
    "np.intersect1d(arr1,arr2)"
   ]
  },
  {
   "cell_type": "markdown",
   "id": "78527bb6",
   "metadata": {},
   "source": [
    "The reason we get an empty list is because there is no common element in both lists arr1 and arr2. "
   ]
  },
  {
   "cell_type": "markdown",
   "id": "3826c9fb",
   "metadata": {},
   "source": [
    "### You can get the sum, mean, standard deviation of the array or the lists. You can also treat the array as a matrix and perform matrix operations on it."
   ]
  },
  {
   "cell_type": "markdown",
   "id": "61c98a2f",
   "metadata": {},
   "source": [
    "#\n",
    "\n",
    "#\n",
    "\n",
    "#\n",
    "\n",
    "#\n",
    "\n",
    "#\n",
    "\n",
    "#"
   ]
  },
  {
   "cell_type": "markdown",
   "id": "7d55e3e6",
   "metadata": {},
   "source": [
    "# Pandas Library\n",
    "\n",
    "There are two objects in Pandas: Series and DataFrame. "
   ]
  },
  {
   "cell_type": "code",
   "execution_count": 37,
   "id": "7bf22f5f",
   "metadata": {},
   "outputs": [],
   "source": [
    "## ensure that you have installed the pandas library\n",
    "import pandas as pd"
   ]
  },
  {
   "cell_type": "markdown",
   "id": "d7bce24b",
   "metadata": {},
   "source": [
    "# Series "
   ]
  },
  {
   "cell_type": "markdown",
   "id": "cead176e",
   "metadata": {},
   "source": [
    "A Series, by contrast, is a sequence of data values. If a DataFrame is a table, a Series is a list. And in fact you can create one with nothing more than a list. \n",
    "\n",
    "A Series is, in essence, a single column of a DataFrame. So you can assign column values to the Series the same way as before, using an index parameter. However, a Series does not have a column name, it only has one overall name or an index."
   ]
  },
  {
   "cell_type": "code",
   "execution_count": 51,
   "id": "e3f4d595",
   "metadata": {},
   "outputs": [
    {
     "data": {
      "text/plain": [
       "0    1\n",
       "1    2\n",
       "2    3\n",
       "3    4\n",
       "4    5\n",
       "dtype: int64"
      ]
     },
     "execution_count": 51,
     "metadata": {},
     "output_type": "execute_result"
    }
   ],
   "source": [
    "## the default index that is created by pandas on the far left and this is a series created using a list\n",
    "pd.Series([1,2,3,4,5])"
   ]
  },
  {
   "cell_type": "code",
   "execution_count": 204,
   "id": "36e45a6d",
   "metadata": {},
   "outputs": [
    {
     "data": {
      "text/plain": [
       "2015 Sales    30\n",
       "2016 Sales    35\n",
       "2017 Sales    40\n",
       "dtype: int64"
      ]
     },
     "execution_count": 204,
     "metadata": {},
     "output_type": "execute_result"
    }
   ],
   "source": [
    "## We have assigned the index of our Series with the entries mentioned in the code and each entry corresponds with the position of the index\n",
    "s1 = pd.Series([30, 35, 40], index=['2015 Sales', '2016 Sales', '2017 Sales'])\n",
    "s1"
   ]
  },
  {
   "cell_type": "code",
   "execution_count": 53,
   "id": "b5bf1a9a",
   "metadata": {},
   "outputs": [
    {
     "data": {
      "text/plain": [
       "pandas.core.series.Series"
      ]
     },
     "execution_count": 53,
     "metadata": {},
     "output_type": "execute_result"
    }
   ],
   "source": [
    "## the type is pandas series \n",
    "type(s1)"
   ]
  },
  {
   "cell_type": "code",
   "execution_count": 68,
   "id": "65b72286",
   "metadata": {},
   "outputs": [
    {
     "data": {
      "text/plain": [
       "{'a': 10, 'b': 20, 'c': 40, 'd': 45}"
      ]
     },
     "execution_count": 68,
     "metadata": {},
     "output_type": "execute_result"
    }
   ],
   "source": [
    "# Create a series from a dictionary\n",
    "d1 = ({'a':10, 'b':20, 'c':40, 'd':45})\n",
    "d1"
   ]
  },
  {
   "cell_type": "code",
   "execution_count": 69,
   "id": "0163278b",
   "metadata": {},
   "outputs": [
    {
     "data": {
      "text/plain": [
       "a    10\n",
       "b    20\n",
       "c    40\n",
       "d    45\n",
       "dtype: int64"
      ]
     },
     "execution_count": 69,
     "metadata": {},
     "output_type": "execute_result"
    }
   ],
   "source": [
    "pd.Series(d1)"
   ]
  },
  {
   "cell_type": "code",
   "execution_count": 70,
   "id": "b05a4f62",
   "metadata": {},
   "outputs": [
    {
     "data": {
      "text/plain": [
       "c    40\n",
       "b    20\n",
       "a    10\n",
       "d    45\n",
       "dtype: int64"
      ]
     },
     "execution_count": 70,
     "metadata": {},
     "output_type": "execute_result"
    }
   ],
   "source": [
    "## change index position \n",
    "pd.Series(d1, index = ['c','b','a','d'])"
   ]
  },
  {
   "cell_type": "markdown",
   "id": "91b91f4c",
   "metadata": {},
   "source": [
    "As you can see, you can manually change the index or the positions of your series. The initially created series had an [a,b,c,d ] and the one changed follows the order - [c,b,a,d]."
   ]
  },
  {
   "cell_type": "markdown",
   "id": "91b3495c",
   "metadata": {},
   "source": [
    "# Exercise"
   ]
  },
  {
   "cell_type": "markdown",
   "id": "fd0afea3",
   "metadata": {},
   "source": [
    "#### Question 1\n",
    "Create a series from a dictionary. The series called d2 having values (15,20,45) and index of (First_year, Second_year, Third_year)."
   ]
  },
  {
   "cell_type": "code",
   "execution_count": 205,
   "id": "108e2a6e",
   "metadata": {},
   "outputs": [
    {
     "data": {
      "text/plain": [
       "{'First_year': 15, 'Second_year': 20, 'Third_year': 45}"
      ]
     },
     "execution_count": 205,
     "metadata": {},
     "output_type": "execute_result"
    }
   ],
   "source": [
    "d2 = ({'First_year':15,'Second_year':20,'Third_year':45})\n",
    "d2"
   ]
  },
  {
   "cell_type": "code",
   "execution_count": 206,
   "id": "6b260661",
   "metadata": {},
   "outputs": [
    {
     "data": {
      "text/plain": [
       "First_year     15\n",
       "Second_year    20\n",
       "Third_year     45\n",
       "dtype: int64"
      ]
     },
     "execution_count": 206,
     "metadata": {},
     "output_type": "execute_result"
    }
   ],
   "source": [
    "## Change the dictionary to a series\n",
    "pd.Series(d2)"
   ]
  },
  {
   "cell_type": "markdown",
   "id": "0d33d0e2",
   "metadata": {},
   "source": [
    "### You can perform the same operations on a Series as you would on a list."
   ]
  },
  {
   "cell_type": "markdown",
   "id": "21aeb196",
   "metadata": {},
   "source": [
    "#\n",
    "\n",
    "#\n",
    "\n",
    "#\n",
    "\n",
    "#\n",
    "\n",
    "#\n",
    "\n",
    "#"
   ]
  },
  {
   "cell_type": "markdown",
   "id": "c40cf55c",
   "metadata": {},
   "source": [
    "#  DataFrame\n",
    "\n",
    "A DataFrame is a table. It contains an array of individual entries, each of which has a certain value. Each entry corresponds to a row (or record) and a column."
   ]
  },
  {
   "cell_type": "code",
   "execution_count": 71,
   "id": "0719c1b3",
   "metadata": {},
   "outputs": [
    {
     "data": {
      "text/html": [
       "<div>\n",
       "<style scoped>\n",
       "    .dataframe tbody tr th:only-of-type {\n",
       "        vertical-align: middle;\n",
       "    }\n",
       "\n",
       "    .dataframe tbody tr th {\n",
       "        vertical-align: top;\n",
       "    }\n",
       "\n",
       "    .dataframe thead th {\n",
       "        text-align: right;\n",
       "    }\n",
       "</style>\n",
       "<table border=\"1\" class=\"dataframe\">\n",
       "  <thead>\n",
       "    <tr style=\"text-align: right;\">\n",
       "      <th></th>\n",
       "      <th>Yes</th>\n",
       "      <th>No</th>\n",
       "    </tr>\n",
       "  </thead>\n",
       "  <tbody>\n",
       "    <tr>\n",
       "      <th>0</th>\n",
       "      <td>50</td>\n",
       "      <td>131</td>\n",
       "    </tr>\n",
       "    <tr>\n",
       "      <th>1</th>\n",
       "      <td>21</td>\n",
       "      <td>2</td>\n",
       "    </tr>\n",
       "  </tbody>\n",
       "</table>\n",
       "</div>"
      ],
      "text/plain": [
       "   Yes   No\n",
       "0   50  131\n",
       "1   21    2"
      ]
     },
     "execution_count": 71,
     "metadata": {},
     "output_type": "execute_result"
    }
   ],
   "source": [
    "## Example\n",
    "pd.DataFrame({'Yes':[50,21],'No':[131,2]})"
   ]
  },
  {
   "cell_type": "markdown",
   "id": "d9d84f41",
   "metadata": {},
   "source": [
    "In this example, the \"0, No\" entry has the value of 131. The \"0, Yes\" entry has a value of 50, and so on."
   ]
  },
  {
   "cell_type": "code",
   "execution_count": 72,
   "id": "6fd97445",
   "metadata": {},
   "outputs": [
    {
     "data": {
      "text/html": [
       "<div>\n",
       "<style scoped>\n",
       "    .dataframe tbody tr th:only-of-type {\n",
       "        vertical-align: middle;\n",
       "    }\n",
       "\n",
       "    .dataframe tbody tr th {\n",
       "        vertical-align: top;\n",
       "    }\n",
       "\n",
       "    .dataframe thead th {\n",
       "        text-align: right;\n",
       "    }\n",
       "</style>\n",
       "<table border=\"1\" class=\"dataframe\">\n",
       "  <thead>\n",
       "    <tr style=\"text-align: right;\">\n",
       "      <th></th>\n",
       "      <th>Bob</th>\n",
       "      <th>Sue</th>\n",
       "    </tr>\n",
       "  </thead>\n",
       "  <tbody>\n",
       "    <tr>\n",
       "      <th>0</th>\n",
       "      <td>I liked it.</td>\n",
       "      <td>Pretty good.</td>\n",
       "    </tr>\n",
       "    <tr>\n",
       "      <th>1</th>\n",
       "      <td>It was awful.</td>\n",
       "      <td>Bland.</td>\n",
       "    </tr>\n",
       "  </tbody>\n",
       "</table>\n",
       "</div>"
      ],
      "text/plain": [
       "             Bob           Sue\n",
       "0    I liked it.  Pretty good.\n",
       "1  It was awful.        Bland."
      ]
     },
     "execution_count": 72,
     "metadata": {},
     "output_type": "execute_result"
    }
   ],
   "source": [
    "## Here's a DataFrame whose values are strings:\n",
    "pd.DataFrame({'Bob': ['I liked it.', 'It was awful.'], 'Sue': ['Pretty good.', 'Bland.']})"
   ]
  },
  {
   "cell_type": "markdown",
   "id": "bb3672e1",
   "metadata": {},
   "source": [
    "We are using the pd.DataFrame() constructor to generate these DataFrame objects.The syntax for declaring a new one is a dictionary whose keys are the column names (Bob and Sue in this example), and whose values are a list of entries.\n",
    "\n",
    "The dictionary-list constructor assigns values to the column labels, but just uses an ascending count from 0 (0, 1, 2, 3, ...) for the row labels.\n",
    "\n",
    "The list of row labels used in a DataFrame is known as an Index. We can assign values to it by using an index parameter in our constructor:"
   ]
  },
  {
   "cell_type": "code",
   "execution_count": 73,
   "id": "07d44f42",
   "metadata": {},
   "outputs": [
    {
     "data": {
      "text/html": [
       "<div>\n",
       "<style scoped>\n",
       "    .dataframe tbody tr th:only-of-type {\n",
       "        vertical-align: middle;\n",
       "    }\n",
       "\n",
       "    .dataframe tbody tr th {\n",
       "        vertical-align: top;\n",
       "    }\n",
       "\n",
       "    .dataframe thead th {\n",
       "        text-align: right;\n",
       "    }\n",
       "</style>\n",
       "<table border=\"1\" class=\"dataframe\">\n",
       "  <thead>\n",
       "    <tr style=\"text-align: right;\">\n",
       "      <th></th>\n",
       "      <th>Bob</th>\n",
       "      <th>Sue</th>\n",
       "    </tr>\n",
       "  </thead>\n",
       "  <tbody>\n",
       "    <tr>\n",
       "      <th>Product A</th>\n",
       "      <td>I liked it.</td>\n",
       "      <td>Pretty good.</td>\n",
       "    </tr>\n",
       "    <tr>\n",
       "      <th>Product B</th>\n",
       "      <td>It was awful.</td>\n",
       "      <td>Bland.</td>\n",
       "    </tr>\n",
       "  </tbody>\n",
       "</table>\n",
       "</div>"
      ],
      "text/plain": [
       "                     Bob           Sue\n",
       "Product A    I liked it.  Pretty good.\n",
       "Product B  It was awful.        Bland."
      ]
     },
     "execution_count": 73,
     "metadata": {},
     "output_type": "execute_result"
    }
   ],
   "source": [
    "pd.DataFrame({'Bob': ['I liked it.', 'It was awful.'], \n",
    "              'Sue': ['Pretty good.', 'Bland.']},\n",
    "             index=['Product A', 'Product B'])"
   ]
  },
  {
   "cell_type": "markdown",
   "id": "fa10f7ff",
   "metadata": {},
   "source": [
    "It's helpful to think of a DataFrame as actually being just a bunch of Series \"glued together\".\n",
    "\n",
    "I hope you noticed how a DataFrame is nothing more then a dictionary. "
   ]
  },
  {
   "cell_type": "markdown",
   "id": "a95033e3",
   "metadata": {},
   "source": [
    "# Exercise"
   ]
  },
  {
   "cell_type": "markdown",
   "id": "a5c391ab",
   "metadata": {},
   "source": [
    "Create a dataframe called fruits. With columns (Apples, Bananas), indexed as '2017 Sales' and '2018 Sales' rows (35,41) and (21,34) respectively."
   ]
  },
  {
   "cell_type": "code",
   "execution_count": 208,
   "id": "5b0c5c6b",
   "metadata": {},
   "outputs": [
    {
     "data": {
      "text/html": [
       "<div>\n",
       "<style scoped>\n",
       "    .dataframe tbody tr th:only-of-type {\n",
       "        vertical-align: middle;\n",
       "    }\n",
       "\n",
       "    .dataframe tbody tr th {\n",
       "        vertical-align: top;\n",
       "    }\n",
       "\n",
       "    .dataframe thead th {\n",
       "        text-align: right;\n",
       "    }\n",
       "</style>\n",
       "<table border=\"1\" class=\"dataframe\">\n",
       "  <thead>\n",
       "    <tr style=\"text-align: right;\">\n",
       "      <th></th>\n",
       "      <th>Apple</th>\n",
       "      <th>Bananas</th>\n",
       "    </tr>\n",
       "  </thead>\n",
       "  <tbody>\n",
       "    <tr>\n",
       "      <th>2017 Sales</th>\n",
       "      <td>35</td>\n",
       "      <td>21</td>\n",
       "    </tr>\n",
       "    <tr>\n",
       "      <th>2018 Sales</th>\n",
       "      <td>41</td>\n",
       "      <td>34</td>\n",
       "    </tr>\n",
       "  </tbody>\n",
       "</table>\n",
       "</div>"
      ],
      "text/plain": [
       "            Apple  Bananas\n",
       "2017 Sales     35       21\n",
       "2018 Sales     41       34"
      ]
     },
     "execution_count": 208,
     "metadata": {},
     "output_type": "execute_result"
    }
   ],
   "source": [
    "fruits = pd.DataFrame({'Apple': [35,41],'Bananas':[21,34]}, index =['2017 Sales','2018 Sales'])\n",
    "fruits"
   ]
  },
  {
   "cell_type": "markdown",
   "id": "6053f926",
   "metadata": {},
   "source": [
    "#\n",
    "\n",
    "#\n",
    "\n",
    "#\n",
    "\n",
    "#\n",
    "\n",
    "#\n",
    "\n",
    "#"
   ]
  },
  {
   "cell_type": "markdown",
   "id": "8b4bb8fc",
   "metadata": {},
   "source": [
    "# See you next week!!"
   ]
  }
 ],
 "metadata": {
  "kernelspec": {
   "display_name": "Python 3",
   "language": "python",
   "name": "python3"
  },
  "language_info": {
   "codemirror_mode": {
    "name": "ipython",
    "version": 3
   },
   "file_extension": ".py",
   "mimetype": "text/x-python",
   "name": "python",
   "nbconvert_exporter": "python",
   "pygments_lexer": "ipython3",
   "version": "3.8.8"
  }
 },
 "nbformat": 4,
 "nbformat_minor": 5
}
